{
 "cells": [
  {
   "cell_type": "code",
   "execution_count": 9,
   "metadata": {
    "scrolled": true
   },
   "outputs": [
    {
     "name": "stdout",
     "output_type": "stream",
     "text": [
      "Requirement already satisfied: pdfplumber in c:\\users\\mi\\anaconda3\\lib\\site-packages (from -r requirements.txt (line 1)) (0.11.5)\n",
      "Requirement already satisfied: pdfminer.six in c:\\users\\mi\\anaconda3\\lib\\site-packages (from -r requirements.txt (line 2)) (20231228)\n",
      "Requirement already satisfied: PyPDF2 in c:\\users\\mi\\anaconda3\\lib\\site-packages (from -r requirements.txt (line 3)) (3.0.1)\n",
      "Requirement already satisfied: rank_bm25 in c:\\users\\mi\\anaconda3\\lib\\site-packages (from -r requirements.txt (line 4)) (0.2.2)\n",
      "Requirement already satisfied: transformers in c:\\users\\mi\\anaconda3\\lib\\site-packages (from -r requirements.txt (line 5)) (4.46.3)\n",
      "Requirement already satisfied: nltk in c:\\users\\mi\\anaconda3\\lib\\site-packages (from -r requirements.txt (line 6)) (3.5)\n",
      "Requirement already satisfied: python-telegram-bot==13.15 in c:\\users\\mi\\anaconda3\\lib\\site-packages (from -r requirements.txt (line 7)) (13.15)\n",
      "Requirement already satisfied: numpy==1.24.4 in c:\\users\\mi\\anaconda3\\lib\\site-packages (from -r requirements.txt (line 8)) (1.24.4)\n",
      "Collecting rouge_score (from -r requirements.txt (line 9))\n",
      "  Downloading rouge_score-0.1.2.tar.gz (17 kB)\n",
      "  Preparing metadata (setup.py): started\n",
      "  Preparing metadata (setup.py): finished with status 'done'\n",
      "Requirement already satisfied: certifi in c:\\users\\mi\\anaconda3\\lib\\site-packages (from python-telegram-bot==13.15->-r requirements.txt (line 7)) (2021.10.8)\n",
      "Requirement already satisfied: tornado==6.1 in c:\\users\\mi\\anaconda3\\lib\\site-packages (from python-telegram-bot==13.15->-r requirements.txt (line 7)) (6.1)\n",
      "Requirement already satisfied: APScheduler==3.6.3 in c:\\users\\mi\\anaconda3\\lib\\site-packages (from python-telegram-bot==13.15->-r requirements.txt (line 7)) (3.6.3)\n",
      "Requirement already satisfied: pytz>=2018.6 in c:\\users\\mi\\anaconda3\\lib\\site-packages (from python-telegram-bot==13.15->-r requirements.txt (line 7)) (2020.1)\n",
      "Requirement already satisfied: cachetools==4.2.2 in c:\\users\\mi\\anaconda3\\lib\\site-packages (from python-telegram-bot==13.15->-r requirements.txt (line 7)) (4.2.2)\n",
      "Requirement already satisfied: setuptools>=0.7 in c:\\users\\mi\\anaconda3\\lib\\site-packages (from APScheduler==3.6.3->python-telegram-bot==13.15->-r requirements.txt (line 7)) (49.2.0.post20200714)\n",
      "Requirement already satisfied: six>=1.4.0 in c:\\users\\mi\\anaconda3\\lib\\site-packages (from APScheduler==3.6.3->python-telegram-bot==13.15->-r requirements.txt (line 7)) (1.15.0)\n",
      "Requirement already satisfied: tzlocal>=1.2 in c:\\users\\mi\\anaconda3\\lib\\site-packages (from APScheduler==3.6.3->python-telegram-bot==13.15->-r requirements.txt (line 7)) (5.2)\n",
      "Requirement already satisfied: Pillow>=9.1 in c:\\users\\mi\\anaconda3\\lib\\site-packages (from pdfplumber->-r requirements.txt (line 1)) (10.4.0)\n",
      "Requirement already satisfied: pypdfium2>=4.18.0 in c:\\users\\mi\\anaconda3\\lib\\site-packages (from pdfplumber->-r requirements.txt (line 1)) (4.30.1)\n",
      "Requirement already satisfied: charset-normalizer>=2.0.0 in c:\\users\\mi\\anaconda3\\lib\\site-packages (from pdfminer.six->-r requirements.txt (line 2)) (3.4.1)\n",
      "Requirement already satisfied: cryptography>=36.0.0 in c:\\users\\mi\\anaconda3\\lib\\site-packages (from pdfminer.six->-r requirements.txt (line 2)) (44.0.2)\n",
      "Requirement already satisfied: typing_extensions>=3.10.0.0 in c:\\users\\mi\\anaconda3\\lib\\site-packages (from PyPDF2->-r requirements.txt (line 3)) (4.8.0)\n",
      "Requirement already satisfied: filelock in c:\\users\\mi\\anaconda3\\lib\\site-packages (from transformers->-r requirements.txt (line 5)) (3.0.12)\n",
      "Requirement already satisfied: huggingface-hub<1.0,>=0.23.2 in c:\\users\\mi\\anaconda3\\lib\\site-packages (from transformers->-r requirements.txt (line 5)) (0.29.3)\n",
      "Requirement already satisfied: packaging>=20.0 in c:\\users\\mi\\appdata\\roaming\\python\\python38\\site-packages (from transformers->-r requirements.txt (line 5)) (23.2)\n",
      "Requirement already satisfied: pyyaml>=5.1 in c:\\users\\mi\\anaconda3\\lib\\site-packages (from transformers->-r requirements.txt (line 5)) (5.3.1)\n",
      "Requirement already satisfied: regex!=2019.12.17 in c:\\users\\mi\\anaconda3\\lib\\site-packages (from transformers->-r requirements.txt (line 5)) (2020.6.8)\n",
      "Requirement already satisfied: requests in c:\\users\\mi\\anaconda3\\lib\\site-packages (from transformers->-r requirements.txt (line 5)) (2.24.0)\n",
      "Requirement already satisfied: tokenizers<0.21,>=0.20 in c:\\users\\mi\\anaconda3\\lib\\site-packages (from transformers->-r requirements.txt (line 5)) (0.20.3)\n",
      "Requirement already satisfied: safetensors>=0.4.1 in c:\\users\\mi\\anaconda3\\lib\\site-packages (from transformers->-r requirements.txt (line 5)) (0.5.3)\n",
      "Requirement already satisfied: tqdm>=4.27 in c:\\users\\mi\\anaconda3\\lib\\site-packages (from transformers->-r requirements.txt (line 5)) (4.47.0)\n",
      "Requirement already satisfied: click in c:\\users\\mi\\anaconda3\\lib\\site-packages (from nltk->-r requirements.txt (line 6)) (7.1.2)\n",
      "Requirement already satisfied: joblib in c:\\users\\mi\\anaconda3\\lib\\site-packages (from nltk->-r requirements.txt (line 6)) (1.2.0)\n",
      "Collecting absl-py (from rouge_score->-r requirements.txt (line 9))\n",
      "  Downloading absl_py-2.2.1-py3-none-any.whl.metadata (2.4 kB)\n",
      "Requirement already satisfied: cffi>=1.12 in c:\\users\\mi\\anaconda3\\lib\\site-packages (from cryptography>=36.0.0->pdfminer.six->-r requirements.txt (line 2)) (1.14.0)\n",
      "Requirement already satisfied: fsspec>=2023.5.0 in c:\\users\\mi\\anaconda3\\lib\\site-packages (from huggingface-hub<1.0,>=0.23.2->transformers->-r requirements.txt (line 5)) (2025.3.0)\n",
      "Requirement already satisfied: chardet<4,>=3.0.2 in c:\\users\\mi\\anaconda3\\lib\\site-packages (from requests->transformers->-r requirements.txt (line 5)) (3.0.4)\n",
      "Requirement already satisfied: idna<3,>=2.5 in c:\\users\\mi\\anaconda3\\lib\\site-packages (from requests->transformers->-r requirements.txt (line 5)) (2.10)\n",
      "Requirement already satisfied: urllib3!=1.25.0,!=1.25.1,<1.26,>=1.21.1 in c:\\users\\mi\\anaconda3\\lib\\site-packages (from requests->transformers->-r requirements.txt (line 5)) (1.25.9)\n",
      "Requirement already satisfied: pycparser in c:\\users\\mi\\anaconda3\\lib\\site-packages (from cffi>=1.12->cryptography>=36.0.0->pdfminer.six->-r requirements.txt (line 2)) (2.20)\n",
      "Requirement already satisfied: tzdata in c:\\users\\mi\\anaconda3\\lib\\site-packages (from tzlocal>=1.2->APScheduler==3.6.3->python-telegram-bot==13.15->-r requirements.txt (line 7)) (2023.3)\n",
      "Requirement already satisfied: backports.zoneinfo in c:\\users\\mi\\anaconda3\\lib\\site-packages (from tzlocal>=1.2->APScheduler==3.6.3->python-telegram-bot==13.15->-r requirements.txt (line 7)) (0.2.1)\n",
      "Downloading absl_py-2.2.1-py3-none-any.whl (277 kB)\n",
      "   ---------------------------------------- 277.3/277.3 kB 1.1 MB/s eta 0:00:00\n",
      "Building wheels for collected packages: rouge_score\n",
      "  Building wheel for rouge_score (setup.py): started\n",
      "  Building wheel for rouge_score (setup.py): finished with status 'done'\n",
      "  Created wheel for rouge_score: filename=rouge_score-0.1.2-py3-none-any.whl size=24960 sha256=56ae1674f70c485d813513e9c4b28bd9bf62cdba21a2c70c6418aeda8a091437\n",
      "  Stored in directory: c:\\users\\mi\\appdata\\local\\pip\\cache\\wheels\\24\\55\\6f\\ebfc4cb176d1c9665da4e306e1705496206d08215c1acd9dde\n",
      "Successfully built rouge_score\n",
      "Installing collected packages: absl-py, rouge_score\n",
      "Successfully installed absl-py-2.2.1 rouge_score-0.1.2\n"
     ]
    },
    {
     "name": "stderr",
     "output_type": "stream",
     "text": [
      "WARNING: Ignoring invalid distribution -umpy (c:\\users\\mi\\anaconda3\\lib\\site-packages)\n",
      "WARNING: Ignoring invalid distribution -umpy (c:\\users\\mi\\anaconda3\\lib\\site-packages)\n",
      "DEPRECATION: pyodbc 4.0.0-unsupported has a non-standard version number. pip 24.0 will enforce this behaviour change. A possible replacement is to upgrade to a newer version of pyodbc or contact the author to suggest that they release a version with a conforming version number. Discussion can be found at https://github.com/pypa/pip/issues/12063\n"
     ]
    }
   ],
   "source": [
    "!python -m venv venv\n",
    "!venv\\Scripts\\activate  # на Windows\n",
    "!pip install -r requirements.txt"
   ]
  },
  {
   "cell_type": "code",
   "execution_count": 13,
   "metadata": {},
   "outputs": [],
   "source": [
    "from src.pdf_rag_pipeline import PDFRAGPipeline\n",
    "from src.llm_pipeline import LLMPipeline\n",
    "from src.telegram_rag_bot import TelegramRAGBot\n",
    "\n",
    "def main():\n",
    "    # Путь к PDF-файлу и чанкам\n",
    "    pdf_path = 'data/2 apple_10k.pdf'\n",
    "    chunks_path = 'data/apple_chunks.pkl'\n",
    "    stats_path = 'data/bot_stats.json'\n",
    "    qa_log_path = 'data/bot_qa_log.json'\n",
    "\n",
    "    # Создаем retrieval-пайплайн\n",
    "    retrieval_pipeline = PDFRAGPipeline(pdf_path, chunk_size=1000, overlap=50)\n",
    "    retrieval_pipeline.load_chunks(chunks_path)\n",
    "    retrieval_pipeline.build_index()\n",
    "\n",
    "    # Создаем LLM-пайплайн\n",
    "    llm_pipeline = LLMPipeline(model_name=\"google/flan-t5-base\", max_length=200, do_sample=False)\n",
    "\n",
    "    # Запускаем Telegram-бота\n",
    "    token = \"7977851701:AAEbQ7K6_OOTos_F_zyLlZYUSJ8TzyJKB6w\"\n",
    "    bot = TelegramRAGBot(token, retrieval_pipeline, llm_pipeline, stats_path, qa_log_path)\n",
    "    bot.run()"
   ]
  },
  {
   "cell_type": "code",
   "execution_count": null,
   "metadata": {},
   "outputs": [
    {
     "name": "stdout",
     "output_type": "stream",
     "text": [
      "Чанки загружены из data/apple_chunks.pkl\n"
     ]
    },
    {
     "data": {
      "application/vnd.jupyter.widget-view+json": {
       "model_id": "dc2dd2ea332e4cf68b6088259d9f4517",
       "version_major": 2,
       "version_minor": 0
      },
      "text/plain": [
       "HBox(children=(FloatProgress(value=0.0, description='config.json', max=1404.0, style=ProgressStyle(description…"
      ]
     },
     "metadata": {},
     "output_type": "display_data"
    },
    {
     "name": "stdout",
     "output_type": "stream",
     "text": [
      "\n"
     ]
    },
    {
     "name": "stderr",
     "output_type": "stream",
     "text": [
      "C:\\Users\\Mi\\anaconda3\\lib\\site-packages\\huggingface_hub\\file_download.py:142: UserWarning: `huggingface_hub` cache-system uses symlinks by default to efficiently store duplicated files but your machine does not support them in C:\\Users\\Mi\\.cache\\huggingface\\hub\\models--google--flan-t5-base. Caching files will still work but in a degraded version that might require more space on your disk. This warning can be disabled by setting the `HF_HUB_DISABLE_SYMLINKS_WARNING` environment variable. For more details, see https://huggingface.co/docs/huggingface_hub/how-to-cache#limitations.\n",
      "To support symlinks on Windows, you either need to activate Developer Mode or to run Python as an administrator. In order to activate developer mode, see this article: https://docs.microsoft.com/en-us/windows/apps/get-started/enable-your-device-for-development\n",
      "  warnings.warn(message)\n"
     ]
    },
    {
     "data": {
      "application/vnd.jupyter.widget-view+json": {
       "model_id": "f81ab624e0a94fac9f6a82bf27bc3926",
       "version_major": 2,
       "version_minor": 0
      },
      "text/plain": [
       "HBox(children=(FloatProgress(value=0.0, description='model.safetensors', max=990345061.0, style=ProgressStyle(…"
      ]
     },
     "metadata": {},
     "output_type": "display_data"
    }
   ],
   "source": [
    "if __name__ == \"__main__\":\n",
    "    main()"
   ]
  }
 ],
 "metadata": {
  "kernelspec": {
   "display_name": "Python 3",
   "language": "python",
   "name": "python3"
  },
  "language_info": {
   "codemirror_mode": {
    "name": "ipython",
    "version": 3
   },
   "file_extension": ".py",
   "mimetype": "text/x-python",
   "name": "python",
   "nbconvert_exporter": "python",
   "pygments_lexer": "ipython3",
   "version": "3.8.3"
  }
 },
 "nbformat": 4,
 "nbformat_minor": 4
}
